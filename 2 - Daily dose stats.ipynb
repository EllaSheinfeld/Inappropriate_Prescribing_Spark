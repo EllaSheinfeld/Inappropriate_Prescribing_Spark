{
 "cells": [
  {
   "cell_type": "code",
   "execution_count": 78,
   "metadata": {},
   "outputs": [],
   "source": [
    "from os import listdir\n",
    "from os.path import isfile, join\n",
    "from pyspark.sql import SQLContext\n",
    "from pyspark.storagelevel import StorageLevel\n",
    "from pyspark.sql.functions import pandas_udf, PandasUDFType, mean\n",
    "from datetime import date\n",
    "import calendar\n"
   ]
  },
  {
   "cell_type": "markdown",
   "metadata": {},
   "source": [
    "### Get monthly Claim files"
   ]
  },
  {
   "cell_type": "code",
   "execution_count": 79,
   "metadata": {},
   "outputs": [],
   "source": [
    "datafiles = listdir(\"../MonthlySpark\")[:-1]"
   ]
  },
  {
   "cell_type": "markdown",
   "metadata": {},
   "source": [
    "### Setup running environment"
   ]
  },
  {
   "cell_type": "code",
   "execution_count": 80,
   "metadata": {},
   "outputs": [],
   "source": [
    "sqlContext = SQLContext(sc)\n",
    "\n",
    "sc.setCheckpointDir(dirName=\"../MonthlySpark/checkpoint\")"
   ]
  },
  {
   "cell_type": "markdown",
   "metadata": {},
   "source": [
    "### Daily dose calculation"
   ]
  },
  {
   "cell_type": "code",
   "execution_count": 81,
   "metadata": {},
   "outputs": [],
   "source": [
    "@pandas_udf(\"double\", PandasUDFType.GROUPED_AGG)\n",
    "def daily_dose(startDays, endDays, effectiveDays, doses):\n",
    "    days = [0 for i in range(31)]\n",
    "\n",
    "    return doses.max()\n",
    "    for (i, startDay) in startDays.iteritems():\n",
    "        \n",
    "        first_day = startDay.day\n",
    "        last_day = endDays[i].day\n",
    "        \n",
    "        last_day_of_month = date(effectiveDays[i].year, effectiveDays[i].month ,calendar.monthrange(effectiveDays[i].year, effectiveDays[i].month)[1])\n",
    "        \n",
    "        if first_day < effectiveDays[i]:\n",
    "            first_day = effectiveDays[i].day\n",
    "        \n",
    "        if endDays[i] > last_day_of_month:\n",
    "            last_day = last_day_of_month.day\n",
    "        \n",
    "        for j in range(first_day, last_day):\n",
    "            days[j] += doses[i]\n",
    "    \n",
    "    return max(days)\n"
   ]
  },
  {
   "cell_type": "markdown",
   "metadata": {},
   "source": [
    "### Iterate over files"
   ]
  },
  {
   "cell_type": "code",
   "execution_count": null,
   "metadata": {},
   "outputs": [],
   "source": [
    "for dataFile in datafiles:\n",
    "    print(\"Processing file: \" + dataFile)\n",
    "    df = sqlContext.read.parquet(\"../MonthlySpark/\" + dataFile)\n",
    "    grp = df.groupBy(df.PATIENT_ID)\n",
    "    aggDf = grp.agg(daily_dose(df.START_DATE, df.END_DATE, df.Effective_Month, df.DOSE))\\\n",
    "        .checkpoint().persist(StorageLevel.DISK_ONLY)\n",
    "    print(\"Collecting statistics for file: \" + dataFile)\n",
    "    doses = aggDf.select(aggDf[1].alias(\"DOSE\")).checkpoint().persist(StorageLevel.DISK_ONLY)\n",
    "    totalDoseStats = doses.describe(\"DOSE\")\n",
    "    totalDoseStats = totalDoseStats.select(totalDoseStats[0].alias(\"Total\"), totalDoseStats.DOSE)\n",
    "    moreThan50Under90 = doses.filter((doses.DOSE >= 50.0) & (doses.DOSE < 90.0)).describe(\"DOSE\")\n",
    "    moreThan50Under90 = moreThan50Under90.select(moreThan50Under90[0].alias(\"STATS50\"), moreThan50Under90.DOSE.alias(\"DOSE50\"))\n",
    "    moreThen90 = doses.filter(doses.DOSE >= 90.0).describe(\"DOSE\")\n",
    "    moreThen90 = moreThen90.select(moreThen90[0].alias(\"STATS90\"), moreThen90.DOSE.alias(\"DOSE90\"))\n",
    "    totalDoseStats.join(moreThan50Under90, totalDoseStats.Total == moreThan50Under90.STATS50)\\\n",
    "                    .join(moreThen90, totalDoseStats.Total == moreThen90.STATS90)\\\n",
    "                    .toPandas().to_csv(\"../MonthlyStats/\"+ dataFile.split(\".\")[0] + \".csv\")\n",
    "    \n",
    "    \n",
    "    moreThen90.unpersist()\n",
    "    moreThan50Under90.unpersist()\n",
    "    totalDoseStats.unpersist()\n",
    "    doses.unpersist()\n",
    "    aggDf.unpersist()\n",
    "    df.unpersist()\n",
    "    \n",
    "    del moreThen90\n",
    "    del moreThan50Under90\n",
    "    del totalDoseStats\n",
    "    del doses\n",
    "    del aggDf\n",
    "    del grp\n",
    "    del df\n",
    "    "
   ]
  },
  {
   "cell_type": "code",
   "execution_count": null,
   "metadata": {},
   "outputs": [],
   "source": []
  },
  {
   "cell_type": "code",
   "execution_count": null,
   "metadata": {},
   "outputs": [],
   "source": []
  },
  {
   "cell_type": "code",
   "execution_count": null,
   "metadata": {},
   "outputs": [],
   "source": []
  },
  {
   "cell_type": "code",
   "execution_count": null,
   "metadata": {},
   "outputs": [],
   "source": []
  }
 ],
 "metadata": {
  "kernelspec": {
   "display_name": "Python 3",
   "language": "python",
   "name": "python3"
  },
  "language_info": {
   "codemirror_mode": {
    "name": "ipython",
    "version": 3
   },
   "file_extension": ".py",
   "mimetype": "text/x-python",
   "name": "python",
   "nbconvert_exporter": "python",
   "pygments_lexer": "ipython3",
   "version": "3.7.2"
  }
 },
 "nbformat": 4,
 "nbformat_minor": 2
}
