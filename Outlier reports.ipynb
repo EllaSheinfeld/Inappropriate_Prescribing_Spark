{
 "cells": [
  {
   "cell_type": "markdown",
   "metadata": {},
   "source": [
    "## Histograms for Jan 2009"
   ]
  },
  {
   "cell_type": "code",
   "execution_count": 1,
   "metadata": {
    "collapsed": true
   },
   "outputs": [],
   "source": [
    "df = sqlContext.read.parquet(\"../MonthlySpark/200901.parquet\")"
   ]
  },
  {
   "cell_type": "code",
   "execution_count": null,
   "metadata": {
    "collapsed": true
   },
   "outputs": [],
   "source": [
    "over90 = df.filter(df.DOSE >= 90).orderBy(df.DOSE, ascending=False).checkpoint()"
   ]
  },
  {
   "cell_type": "code",
   "execution_count": 5,
   "metadata": {
    "collapsed": true
   },
   "outputs": [
    {
     "data": {
      "text/plain": [
       "([90.000045,\n",
       "  6755.766711216667,\n",
       "  13421.533377433336,\n",
       "  20087.300043650004,\n",
       "  26753.06670986667,\n",
       "  33418.83337608334,\n",
       "  40084.60004230001,\n",
       "  46750.366708516674,\n",
       "  53416.13337473334,\n",
       "  60081.90004095001,\n",
       "  66747.66670716667,\n",
       "  73413.43337338333,\n",
       "  80079.20003960001,\n",
       "  86744.96670581667,\n",
       "  93410.73337203334,\n",
       "  100076.50003825,\n",
       "  106742.26670446667,\n",
       "  113408.03337068335,\n",
       "  120073.80003690001,\n",
       "  126739.56670311668,\n",
       "  133405.33336933336,\n",
       "  140071.10003555001,\n",
       "  146736.86670176667,\n",
       "  153402.63336798333,\n",
       "  160068.40003420002,\n",
       "  166734.16670041668,\n",
       "  173399.93336663334,\n",
       "  180065.70003285003,\n",
       "  186731.4666990667,\n",
       "  193397.23336528335,\n",
       "  200063.0000315,\n",
       "  206728.7666977167,\n",
       "  213394.53336393335,\n",
       "  220060.30003015,\n",
       "  226726.0666963667,\n",
       "  233391.83336258336,\n",
       "  240057.60002880002,\n",
       "  246723.36669501668,\n",
       "  253389.13336123337,\n",
       "  260054.90002745003,\n",
       "  266720.6666936667,\n",
       "  273386.4333598834,\n",
       "  280052.20002610004,\n",
       "  286717.9666923167,\n",
       "  293383.73335853335,\n",
       "  300049.50002475,\n",
       "  306715.2666909667,\n",
       "  313381.0333571834,\n",
       "  320046.80002340005,\n",
       "  326712.5666896167,\n",
       "  333378.33335583337,\n",
       "  340044.10002205,\n",
       "  346709.8666882667,\n",
       "  353375.63335448335,\n",
       "  360041.40002070006,\n",
       "  366707.1666869167,\n",
       "  373372.9333531334,\n",
       "  380038.70001935004,\n",
       "  386704.4666855667,\n",
       "  393370.23335178336,\n",
       "  400036.000018,\n",
       "  406701.76668421674,\n",
       "  413367.5333504334,\n",
       "  420033.30001665006,\n",
       "  426699.0666828667,\n",
       "  433364.8333490834,\n",
       "  440030.60001530004,\n",
       "  446696.3666815167,\n",
       "  453362.1333477334,\n",
       "  460027.9000139501,\n",
       "  466693.66668016673,\n",
       "  473359.4333463834,\n",
       "  480025.20001260005,\n",
       "  486690.9666788167,\n",
       "  493356.73334503337,\n",
       "  500022.5000112501,\n",
       "  506688.26667746675,\n",
       "  513354.0333436834,\n",
       "  520019.80000990006,\n",
       "  526685.5666761168,\n",
       "  533351.3333423334,\n",
       "  540017.1000085501,\n",
       "  546682.8666747668,\n",
       "  553348.6333409834,\n",
       "  560014.4000072001,\n",
       "  566680.1666734167,\n",
       "  573345.9333396334,\n",
       "  580011.70000585,\n",
       "  586677.4666720667,\n",
       "  593343.2333382834,\n",
       "  600009.0000045,\n",
       "  606674.7666707167,\n",
       "  613340.5333369334,\n",
       "  620006.3000031501,\n",
       "  626672.0666693668,\n",
       "  633337.8333355834,\n",
       "  640003.6000018001,\n",
       "  646669.3666680168,\n",
       "  653335.1333342334,\n",
       "  660000.9000004501,\n",
       "  666666.6666666667],\n",
       " [1472997,\n",
       "  14,\n",
       "  1,\n",
       "  0,\n",
       "  1,\n",
       "  0,\n",
       "  0,\n",
       "  1,\n",
       "  0,\n",
       "  0,\n",
       "  0,\n",
       "  0,\n",
       "  0,\n",
       "  0,\n",
       "  0,\n",
       "  0,\n",
       "  0,\n",
       "  0,\n",
       "  0,\n",
       "  0,\n",
       "  0,\n",
       "  0,\n",
       "  0,\n",
       "  0,\n",
       "  0,\n",
       "  0,\n",
       "  0,\n",
       "  0,\n",
       "  0,\n",
       "  0,\n",
       "  0,\n",
       "  0,\n",
       "  0,\n",
       "  0,\n",
       "  0,\n",
       "  0,\n",
       "  0,\n",
       "  0,\n",
       "  0,\n",
       "  0,\n",
       "  0,\n",
       "  0,\n",
       "  0,\n",
       "  0,\n",
       "  0,\n",
       "  0,\n",
       "  0,\n",
       "  0,\n",
       "  0,\n",
       "  0,\n",
       "  0,\n",
       "  0,\n",
       "  0,\n",
       "  0,\n",
       "  0,\n",
       "  0,\n",
       "  0,\n",
       "  0,\n",
       "  0,\n",
       "  0,\n",
       "  0,\n",
       "  0,\n",
       "  0,\n",
       "  0,\n",
       "  0,\n",
       "  0,\n",
       "  0,\n",
       "  0,\n",
       "  0,\n",
       "  0,\n",
       "  0,\n",
       "  0,\n",
       "  0,\n",
       "  0,\n",
       "  0,\n",
       "  0,\n",
       "  0,\n",
       "  0,\n",
       "  0,\n",
       "  0,\n",
       "  0,\n",
       "  0,\n",
       "  0,\n",
       "  0,\n",
       "  0,\n",
       "  0,\n",
       "  0,\n",
       "  0,\n",
       "  0,\n",
       "  0,\n",
       "  0,\n",
       "  0,\n",
       "  0,\n",
       "  0,\n",
       "  0,\n",
       "  0,\n",
       "  0,\n",
       "  0,\n",
       "  0,\n",
       "  1])"
      ]
     },
     "execution_count": 5,
     "metadata": {},
     "output_type": "execute_result"
    }
   ],
   "source": [
    "df.filter(df.DOSE >= 90).orderBy(df.DOSE, ascending=False).select(df.DOSE).rdd.flatMap(lambda x: x).histogram(100)"
   ]
  },
  {
   "cell_type": "code",
   "execution_count": 18,
   "metadata": {
    "collapsed": true
   },
   "outputs": [
    {
     "data": {
      "text/plain": [
       "([90, 150, 200, 250, 300, 350, 400, 450, 500],\n",
       " [870389, 272610, 124921, 69711, 68053, 12807, 7415, 24877])"
      ]
     },
     "execution_count": 18,
     "metadata": {},
     "output_type": "execute_result"
    }
   ],
   "source": [
    "df.filter(df.DOSE >= 90).select(df.DOSE).rdd.flatMap(lambda x: x).histogram([90, 150, 200, 250, 300, 350, 400, 450, 500])"
   ]
  },
  {
   "cell_type": "markdown",
   "metadata": {},
   "source": [
    "## Extract outlires with praquet data"
   ]
  },
  {
   "cell_type": "code",
   "execution_count": 28,
   "metadata": {
    "collapsed": true
   },
   "outputs": [],
   "source": [
    "import pandas as pd\n",
    "pd.DataFrame(df.filter((df.DOSE >= 90) & (df.DOSE < 150)).head(100), columns = df.columns).to_csv('../outliers/090-150.csv')\n",
    "pd.DataFrame(df.filter((df.DOSE >= 150) & (df.DOSE < 200)).head(100), columns = df.columns).to_csv('../outliers/150-200.csv')\n",
    "pd.DataFrame(df.filter((df.DOSE >= 200) & (df.DOSE < 250)).head(100), columns = df.columns).to_csv('../outliers/200-250.csv')\n",
    "pd.DataFrame(df.filter((df.DOSE >= 250) & (df.DOSE < 300)).head(100), columns = df.columns).to_csv('../outliers/250-300.csv')\n",
    "pd.DataFrame(df.filter((df.DOSE >= 300) & (df.DOSE < 350)).head(100), columns = df.columns).to_csv('../outliers/300-350.csv')\n",
    "pd.DataFrame(df.filter((df.DOSE >= 350) & (df.DOSE < 400)).head(100), columns = df.columns).to_csv('../outliers/350-400.csv')\n",
    "pd.DataFrame(df.filter((df.DOSE >= 400) & (df.DOSE < 450)).head(100), columns = df.columns).to_csv('../outliers/400-450.csv')\n",
    "pd.DataFrame(df.filter((df.DOSE >= 450) & (df.DOSE < 500)).head(100), columns = df.columns).to_csv('../outliers/450-500.csv')\n",
    "pd.DataFrame(df.filter(df.DOSE >= 500).head(100), columns = df.columns).to_csv('../outliers/500.csv')"
   ]
  },
  {
   "cell_type": "markdown",
   "metadata": {},
   "source": [
    "## Extract outlires with raw data"
   ]
  },
  {
   "cell_type": "code",
   "execution_count": 34,
   "metadata": {
    "collapsed": true
   },
   "outputs": [],
   "source": [
    "rawdata = sqlContext.read.option(\"delimiter\", \"\\t\").option(\"header\", \"true\").csv(\"../MonthlyData/Rxfact_200901.tsv\")"
   ]
  },
  {
   "cell_type": "code",
   "execution_count": 51,
   "metadata": {
    "collapsed": true
   },
   "outputs": [],
   "source": [
    "import pandas as pd\n",
    "j = df.filter((df.DOSE >= 90) & (df.DOSE < 150)).join(rawdata, df.CLAIM_ID == rawdata.CLAIM_ID)\\\n",
    "    .select(rawdata.CLAIM_ID, rawdata.PATIENT_ID, rawdata.PROVIDER_ID, rawdata.PRODUCT_ID, rawdata.DSPNSD_QTY, rawdata.DAYS_SUPPLY_CNT, rawdata.MME_Conversion_Factor, rawdata.STRENGTH, df.DOSE)\n",
    "pd.DataFrame(j.head(100), columns = j.columns).to_csv('../outliers/090-150.csv')\n",
    "\n",
    "j = df.filter((df.DOSE >= 150) & (df.DOSE < 200)).join(rawdata, df.CLAIM_ID == rawdata.CLAIM_ID)\\\n",
    "    .select(rawdata.CLAIM_ID, rawdata.PATIENT_ID, rawdata.PROVIDER_ID, rawdata.PRODUCT_ID, rawdata.DSPNSD_QTY, rawdata.DAYS_SUPPLY_CNT, rawdata.MME_Conversion_Factor, rawdata.STRENGTH, df.DOSE)\n",
    "pd.DataFrame(j.head(100), columns = j.columns).to_csv('../outliers/150-200.csv')\n",
    "\n",
    "j = df.filter((df.DOSE >= 200) & (df.DOSE < 250)).join(rawdata, df.CLAIM_ID == rawdata.CLAIM_ID)\\\n",
    "    .select(rawdata.CLAIM_ID, rawdata.PATIENT_ID, rawdata.PROVIDER_ID, rawdata.PRODUCT_ID, rawdata.DSPNSD_QTY, rawdata.DAYS_SUPPLY_CNT, rawdata.MME_Conversion_Factor, rawdata.STRENGTH, df.DOSE)\n",
    "pd.DataFrame(j.head(100), columns = j.columns).to_csv('../outliers/200-250.csv')\n",
    "\n",
    "j = df.filter((df.DOSE >= 250) & (df.DOSE < 300)).join(rawdata, df.CLAIM_ID == rawdata.CLAIM_ID)\\\n",
    "    .select(rawdata.CLAIM_ID, rawdata.PATIENT_ID, rawdata.PROVIDER_ID, rawdata.PRODUCT_ID, rawdata.DSPNSD_QTY, rawdata.DAYS_SUPPLY_CNT, rawdata.MME_Conversion_Factor, rawdata.STRENGTH, df.DOSE)\n",
    "pd.DataFrame(j.head(100), columns = j.columns).to_csv('../outliers/250-300.csv')\n",
    "\n",
    "j = df.filter((df.DOSE >= 300) & (df.DOSE < 350)).join(rawdata, df.CLAIM_ID == rawdata.CLAIM_ID)\\\n",
    "    .select(rawdata.CLAIM_ID, rawdata.PATIENT_ID, rawdata.PROVIDER_ID, rawdata.PRODUCT_ID, rawdata.DSPNSD_QTY, rawdata.DAYS_SUPPLY_CNT, rawdata.MME_Conversion_Factor, rawdata.STRENGTH, df.DOSE)\n",
    "pd.DataFrame(j.head(100), columns = j.columns).to_csv('../outliers/300-350.csv')\n",
    "\n",
    "j = df.filter((df.DOSE >= 350) & (df.DOSE < 400)).join(rawdata, df.CLAIM_ID == rawdata.CLAIM_ID)\\\n",
    "    .select(rawdata.CLAIM_ID, rawdata.PATIENT_ID, rawdata.PROVIDER_ID, rawdata.PRODUCT_ID, rawdata.DSPNSD_QTY, rawdata.DAYS_SUPPLY_CNT, rawdata.MME_Conversion_Factor, rawdata.STRENGTH, df.DOSE)\n",
    "pd.DataFrame(j.head(100), columns = j.columns).to_csv('../outliers/350-400.csv')\n",
    "\n",
    "j = df.filter((df.DOSE >= 400) & (df.DOSE < 450)).join(rawdata, df.CLAIM_ID == rawdata.CLAIM_ID)\\\n",
    "    .select(rawdata.CLAIM_ID, rawdata.PATIENT_ID, rawdata.PROVIDER_ID, rawdata.PRODUCT_ID, rawdata.DSPNSD_QTY, rawdata.DAYS_SUPPLY_CNT, rawdata.MME_Conversion_Factor, rawdata.STRENGTH, df.DOSE)\n",
    "pd.DataFrame(j.head(100), columns = j.columns).to_csv('../outliers/400-450.csv')\n",
    "\n",
    "j = df.filter((df.DOSE >= 450) & (df.DOSE < 500)).join(rawdata, df.CLAIM_ID == rawdata.CLAIM_ID)\\\n",
    "    .select(rawdata.CLAIM_ID, rawdata.PATIENT_ID, rawdata.PROVIDER_ID, rawdata.PRODUCT_ID, rawdata.DSPNSD_QTY, rawdata.DAYS_SUPPLY_CNT, rawdata.MME_Conversion_Factor, rawdata.STRENGTH, df.DOSE)\n",
    "pd.DataFrame(j.head(100), columns = j.columns).to_csv('../outliers/450-500.csv')\n",
    "\n",
    "j = df.filter(df.DOSE >= 500).join(rawdata, df.CLAIM_ID == rawdata.CLAIM_ID)\\\n",
    "    .select(rawdata.CLAIM_ID, rawdata.PATIENT_ID, rawdata.PROVIDER_ID, rawdata.PRODUCT_ID, rawdata.DSPNSD_QTY, rawdata.DAYS_SUPPLY_CNT, rawdata.MME_Conversion_Factor, rawdata.STRENGTH, df.DOSE)\n",
    "pd.DataFrame(j.head(100), columns = j.columns).to_csv('../outliers/500.csv')"
   ]
  }
 ],
 "metadata": {
  "kernelspec": {
   "display_name": "Python 3",
   "language": "python",
   "name": "python3"
  },
  "language_info": {
   "codemirror_mode": {
    "name": "ipython",
    "version": 3
   },
   "file_extension": ".py",
   "mimetype": "text/x-python",
   "name": "python",
   "nbconvert_exporter": "python",
   "pygments_lexer": "ipython3",
   "version": "3.7.2"
  }
 },
 "nbformat": 4,
 "nbformat_minor": 2
}
