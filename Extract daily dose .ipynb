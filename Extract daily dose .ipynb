{
 "cells": [
  {
   "cell_type": "code",
   "execution_count": null,
   "metadata": {},
   "outputs": [],
   "source": [
    "from pyspark.sql.functions import to_date\n",
    "from pyspark.storagelevel import StorageLevel\n"
   ]
  },
  {
   "cell_type": "code",
   "execution_count": null,
   "metadata": {},
   "outputs": [],
   "source": [
    "years = [\"2014\", \"2015\", \"2016\", \"2017\"]\n",
    "months = [\"01\", \"02\", \"03\", \"04\", \"05\", \"06\", \"07\", \"08\",\"09\", \"10\", \"11\", \"12\"]"
   ]
  },
  {
   "cell_type": "code",
   "execution_count": null,
   "metadata": {},
   "outputs": [],
   "source": [
    "for year in years:\n",
    "    for month in months:\n",
    "        print(\"Processing: \" + year + month)\n",
    "        df = sqlContext.read.parquet(\"../MonthlySpark/\" + year + month +\".parquet\").persist(StorageLevel.DISK_ONLY)\n",
    "        df.filter(df.Effective_Month == to_date(df.MONTH_ID, 'yyyyMM'))\\\n",
    "            .drop(\"Effective_Month\")\\\n",
    "            .toPandas()\\\n",
    "            .to_csv(\"../ExtractDailyDose\" +year+ \"/\"+ year + month + \".csv\", index=False)\n",
    "        df.unpersist()\n",
    "        del df"
   ]
  },
  {
   "cell_type": "code",
   "execution_count": null,
   "metadata": {},
   "outputs": [],
   "source": [
    "for mnt in [\"08\",\"09\", \"10\", \"11\", \"12\"]:\n",
    "    print(\"Processing: \" + \"2013\" + mnt)\n",
    "    df = sqlContext.read.parquet(\"../MonthlySpark/\" + \"2013\" + mnt +\".parquet\").persist(StorageLevel.DISK_ONLY)\n",
    "    df.filter(df.Effective_Month == to_date(df.MONTH_ID, 'yyyyMM'))\\\n",
    "        .drop(\"Effective_Month\")\\\n",
    "        .toPandas()\\\n",
    "        .to_csv(\"../ExtractDailyDose\" +\"2013\"+ \"/\"+ \"2013\" + mnt + \".csv\", index=False)\n",
    "    df.unpersist()\n",
    "    del df"
   ]
  },
  {
   "cell_type": "code",
   "execution_count": null,
   "metadata": {},
   "outputs": [],
   "source": []
  }
 ],
 "metadata": {
  "kernelspec": {
   "display_name": "Python 3",
   "language": "python",
   "name": "python3"
  },
  "language_info": {
   "codemirror_mode": {
    "name": "ipython",
    "version": 3
   },
   "file_extension": ".py",
   "mimetype": "text/x-python",
   "name": "python",
   "nbconvert_exporter": "python",
   "pygments_lexer": "ipython3",
   "version": "3.7.2"
  }
 },
 "nbformat": 4,
 "nbformat_minor": 2
}
