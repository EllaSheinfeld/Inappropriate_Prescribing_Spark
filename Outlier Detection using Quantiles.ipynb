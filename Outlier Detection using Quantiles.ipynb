{
 "cells": [
  {
   "cell_type": "code",
   "execution_count": 2,
   "metadata": {},
   "outputs": [],
   "source": [
    "import pandas as pd\n",
    "physicians = sqlContext.read.csv(\"../DescriptiveSpark/physician.csv\", sep=\"|\", header=True)\n",
    "patients = sqlContext.read.csv(\"../DescriptiveSpark/patient.csv\", sep=\"|\", header=True)"
   ]
  },
  {
   "cell_type": "code",
   "execution_count": 36,
   "metadata": {},
   "outputs": [],
   "source": [
    "years = ['2009', '2011', '2013', '2015', '2017']\n",
    "for year in years:\n",
    "    df = sqlContext.read.parquet(\"../MonthlySpark/\" + year + \"01.parquet\")\n",
    "    df = df.filter(df.MONTH_ID == (year+\"01\"))\n",
    "    quantiles = df.filter(df.DOSE > 90).stat.approxQuantile(\"DOSE\",[0.25,0.5,0.75],0.0)\n",
    "    cutoff = (quantiles[2]-quantiles[0]) * 1.5 + quantiles[2]\n",
    "    outliers = df.filter(df.DOSE > cutoff)\n",
    "    valid_data = df.filter(df.DOSE <= cutoff)\n",
    "    \n",
    "    outliers_with_physician = outliers.join(physicians, outliers.PROVIDER_ID == physicians.PROVIDER_ID)\n",
    "    valid_data_with_physician = valid_data.join(physicians, valid_data.PROVIDER_ID == physicians.PROVIDER_ID)\n",
    "    \n",
    "    with pd.ExcelWriter('../outliers/' + year + 'PhysiciansOutlierReport.xlsx') as writer:\n",
    "\n",
    "        outliers_with_physician.groupBy(outliers_with_physician.GENDER_CD).count().toPandas()\\\n",
    "            .to_excel(writer, sheet_name='Outlier_Gender', index=False)\n",
    "        outliers_with_physician.groupBy(outliers_with_physician.ST_CD).count().toPandas()\\\n",
    "            .to_excel(writer, sheet_name='Outlier_State' ,index=False)\n",
    "        outliers_with_physician.groupBy(outliers_with_physician.ZIP).count().toPandas()\\\n",
    "            .to_excel(writer,sheet_name='Outlier_Zip', index=False)\n",
    "        outliers_with_physician.groupBy(outliers_with_physician.PRI_SPCL_CD, outliers_with_physician.PRI_SPCL_DESC).count().toPandas()\\\n",
    "            .to_excel(writer,sheet_name='Outlier_Speciality', index=False)\n",
    "\n",
    "        valid_data_with_physician.groupBy(valid_data_with_physician.GENDER_CD).count().toPandas()\\\n",
    "            .to_excel(writer, sheet_name='Valid_Gender', index=False)\n",
    "        valid_data_with_physician.groupBy(valid_data_with_physician.ST_CD).count().toPandas()\\\n",
    "            .to_excel(writer, sheet_name='Valid_State' ,index=False)\n",
    "        valid_data_with_physician.groupBy(valid_data_with_physician.ZIP).count().toPandas()\\\n",
    "            .to_excel(writer,sheet_name='Valid_Zip', index=False)\n",
    "        valid_data_with_physician.groupBy(valid_data_with_physician.PRI_SPCL_CD, valid_data_with_physician.PRI_SPCL_DESC).count().toPandas()\\\n",
    "            .to_excel(writer,sheet_name='Valid_Speciality', index=False)\n",
    "    \n",
    "    outliers_with_physician.unpersist()\n",
    "    valid_data_with_physician.unpersist()\n",
    "    del outliers_with_physician\n",
    "    del valid_data_with_physician\n",
    "    \n",
    "    outliers_with_patient = outliers.join(patients, outliers.PATIENT_ID == patients.PATIENT_ID)\n",
    "    valid_data_with_patient = valid_data.join(patients, valid_data.PATIENT_ID == patients.PATIENT_ID)\n",
    "    \n",
    "    with pd.ExcelWriter('../outliers/' + year + 'PatientsOutlierReport.xlsx') as writer:\n",
    "        outliers_with_patient.groupBy(outliers_with_patient.PAT_GENDER_CD).count().toPandas()\\\n",
    "            .to_excel(writer, sheet_name='Outlier_Gender', index=False)\n",
    "        outliers_with_patient.groupBy(year - outliers_with_patient.PAT_BRTH_YR_NBR).count().toPandas()\\\n",
    "            .to_excel(writer, sheet_name='Outlier_Age', index=False)\n",
    "        valid_data_with_patient.groupBy(valid_data_with_patient.PAT_GENDER_CD).count().toPandas()\\\n",
    "            .to_excel(writer, sheet_name='Valid_Gender', index=False)\n",
    "        valid_data_with_patient.groupBy(year - valid_data_with_patient.PAT_BRTH_YR_NBR).count().toPandas()\\\n",
    "            .to_excel(writer, sheet_name='Valid_Age', index=False)\n",
    "        \n",
    "    outliers_with_patient.unpersist()\n",
    "    valid_data_with_patient.unpersist()\n",
    "    del outliers_with_patient\n",
    "    del valid_data_with_patient"
   ]
  },
  {
   "cell_type": "code",
   "execution_count": 40,
   "metadata": {},
   "outputs": [
    {
     "name": "stdout",
     "output_type": "stream",
     "text": [
      "{'2009': {'cut': 292.01612903225805, 'p': 0.009820453104369546}, '2011': {'cut': 439.4428152492668, 'p': 0.004167635123040712}, '2013': {'cut': 405.11679644048945, 'p': 0.003180522734639475}, '2015': {'cut': 353.15020161290323, 'p': 0.003453995873414182}, '2017': {'cut': 294.55645161290323, 'p': 0.00434336882848287}}\n"
     ]
    }
   ],
   "source": [
    "years = ['2009', '2011', '2013', '2015', '2017']\n",
    "cutoffs = {}\n",
    "for year in years:\n",
    "    df = sqlContext.read.parquet(\"../MonthlySpark/\" + year + \"01.parquet\")\n",
    "    df = df.filter(df.MONTH_ID == (year+\"01\"))\n",
    "    quantiles = df.filter(df.DOSE > 90).stat.approxQuantile(\"DOSE\",[0.25,0.5,0.75],0.0)\n",
    "    cutoff = (quantiles[2]-quantiles[0]) * 1.5 + quantiles[2]\n",
    "    cutoff_p = df.filter(df.DOSE > cutoff).count() / df.count()\n",
    "    cutoffs[year] = { 'cut': cutoff, 'p': cutoff_p }\n",
    "    \n",
    "print(cutoffs)"
   ]
  }
 ],
 "metadata": {
  "kernelspec": {
   "display_name": "Python 3",
   "language": "python",
   "name": "python3"
  },
  "language_info": {
   "codemirror_mode": {
    "name": "ipython",
    "version": 3
   },
   "file_extension": ".py",
   "mimetype": "text/x-python",
   "name": "python",
   "nbconvert_exporter": "python",
   "pygments_lexer": "ipython3",
   "version": "3.7.2"
  }
 },
 "nbformat": 4,
 "nbformat_minor": 2
}
